{
 "cells": [
  {
   "cell_type": "code",
   "execution_count": 1,
   "id": "411dd34c",
   "metadata": {},
   "outputs": [],
   "source": [
    "import pandas as pd"
   ]
  },
  {
   "cell_type": "code",
   "execution_count": 2,
   "id": "a568e092",
   "metadata": {},
   "outputs": [],
   "source": [
    "df = pd.read_csv('dublin_group.csv')"
   ]
  },
  {
   "cell_type": "code",
   "execution_count": 3,
   "id": "3cb9327b",
   "metadata": {},
   "outputs": [
    {
     "data": {
      "text/html": [
       "<div>\n",
       "<style scoped>\n",
       "    .dataframe tbody tr th:only-of-type {\n",
       "        vertical-align: middle;\n",
       "    }\n",
       "\n",
       "    .dataframe tbody tr th {\n",
       "        vertical-align: top;\n",
       "    }\n",
       "\n",
       "    .dataframe thead th {\n",
       "        text-align: right;\n",
       "    }\n",
       "</style>\n",
       "<table border=\"1\" class=\"dataframe\">\n",
       "  <thead>\n",
       "    <tr style=\"text-align: right;\">\n",
       "      <th></th>\n",
       "      <th>Date</th>\n",
       "      <th>Min_Temp</th>\n",
       "      <th>Rain</th>\n",
       "      <th>Max_Temp</th>\n",
       "      <th>Total_SWD</th>\n",
       "      <th>Drosophilids</th>\n",
       "      <th>Male_SWD</th>\n",
       "      <th>Female_SWD</th>\n",
       "      <th>Similar</th>\n",
       "      <th>Week</th>\n",
       "      <th>Year</th>\n",
       "    </tr>\n",
       "  </thead>\n",
       "  <tbody>\n",
       "    <tr>\n",
       "      <th>0</th>\n",
       "      <td>06/02/2015</td>\n",
       "      <td>6.7</td>\n",
       "      <td>1.6</td>\n",
       "      <td>14.9</td>\n",
       "      <td>0.0</td>\n",
       "      <td>6.0</td>\n",
       "      <td>0</td>\n",
       "      <td>0.0</td>\n",
       "      <td>0.0</td>\n",
       "      <td>6</td>\n",
       "      <td>2015</td>\n",
       "    </tr>\n",
       "    <tr>\n",
       "      <th>1</th>\n",
       "      <td>11/02/2015</td>\n",
       "      <td>9.7</td>\n",
       "      <td>0.1</td>\n",
       "      <td>15.4</td>\n",
       "      <td>125.0</td>\n",
       "      <td>345.0</td>\n",
       "      <td>72</td>\n",
       "      <td>53.0</td>\n",
       "      <td>19.0</td>\n",
       "      <td>7</td>\n",
       "      <td>2015</td>\n",
       "    </tr>\n",
       "    <tr>\n",
       "      <th>2</th>\n",
       "      <td>12/02/2015</td>\n",
       "      <td>5.0</td>\n",
       "      <td>0.4</td>\n",
       "      <td>12.8</td>\n",
       "      <td>5.0</td>\n",
       "      <td>150.0</td>\n",
       "      <td>3</td>\n",
       "      <td>2.0</td>\n",
       "      <td>3.0</td>\n",
       "      <td>7</td>\n",
       "      <td>2015</td>\n",
       "    </tr>\n",
       "    <tr>\n",
       "      <th>3</th>\n",
       "      <td>08/04/2015</td>\n",
       "      <td>12.8</td>\n",
       "      <td>0.3</td>\n",
       "      <td>18.7</td>\n",
       "      <td>2.0</td>\n",
       "      <td>317.0</td>\n",
       "      <td>2</td>\n",
       "      <td>1.0</td>\n",
       "      <td>13.0</td>\n",
       "      <td>15</td>\n",
       "      <td>2015</td>\n",
       "    </tr>\n",
       "    <tr>\n",
       "      <th>4</th>\n",
       "      <td>10/05/2015</td>\n",
       "      <td>11.8</td>\n",
       "      <td>12.0</td>\n",
       "      <td>16.6</td>\n",
       "      <td>1.0</td>\n",
       "      <td>82.0</td>\n",
       "      <td>0</td>\n",
       "      <td>1.0</td>\n",
       "      <td>4.0</td>\n",
       "      <td>20</td>\n",
       "      <td>2015</td>\n",
       "    </tr>\n",
       "  </tbody>\n",
       "</table>\n",
       "</div>"
      ],
      "text/plain": [
       "         Date  Min_Temp  Rain  Max_Temp  Total_SWD  Drosophilids  Male_SWD  \\\n",
       "0  06/02/2015       6.7   1.6      14.9        0.0           6.0         0   \n",
       "1  11/02/2015       9.7   0.1      15.4      125.0         345.0        72   \n",
       "2  12/02/2015       5.0   0.4      12.8        5.0         150.0         3   \n",
       "3  08/04/2015      12.8   0.3      18.7        2.0         317.0         2   \n",
       "4  10/05/2015      11.8  12.0      16.6        1.0          82.0         0   \n",
       "\n",
       "   Female_SWD  Similar  Week  Year  \n",
       "0         0.0      0.0     6  2015  \n",
       "1        53.0     19.0     7  2015  \n",
       "2         2.0      3.0     7  2015  \n",
       "3         1.0     13.0    15  2015  \n",
       "4         1.0      4.0    20  2015  "
      ]
     },
     "execution_count": 3,
     "metadata": {},
     "output_type": "execute_result"
    }
   ],
   "source": [
    "df.head()"
   ]
  },
  {
   "cell_type": "code",
   "execution_count": 25,
   "id": "b8d9466e",
   "metadata": {},
   "outputs": [],
   "source": [
    "df_n = df[['Year','Max_Temp','Total_SWD','Rain','Week']]"
   ]
  },
  {
   "cell_type": "code",
   "execution_count": 26,
   "id": "614a7243",
   "metadata": {},
   "outputs": [],
   "source": [
    "X = df_n[['Year','Max_Temp','Rain','Week']]"
   ]
  },
  {
   "cell_type": "code",
   "execution_count": 27,
   "id": "3cd27859",
   "metadata": {},
   "outputs": [],
   "source": [
    "y = df_n[['Total_SWD']]"
   ]
  },
  {
   "cell_type": "code",
   "execution_count": 28,
   "id": "707ce732",
   "metadata": {},
   "outputs": [
    {
     "data": {
      "text/html": [
       "<div>\n",
       "<style scoped>\n",
       "    .dataframe tbody tr th:only-of-type {\n",
       "        vertical-align: middle;\n",
       "    }\n",
       "\n",
       "    .dataframe tbody tr th {\n",
       "        vertical-align: top;\n",
       "    }\n",
       "\n",
       "    .dataframe thead th {\n",
       "        text-align: right;\n",
       "    }\n",
       "</style>\n",
       "<table border=\"1\" class=\"dataframe\">\n",
       "  <thead>\n",
       "    <tr style=\"text-align: right;\">\n",
       "      <th></th>\n",
       "      <th>Year</th>\n",
       "      <th>Max_Temp</th>\n",
       "      <th>Rain</th>\n",
       "      <th>Week</th>\n",
       "    </tr>\n",
       "  </thead>\n",
       "  <tbody>\n",
       "    <tr>\n",
       "      <th>0</th>\n",
       "      <td>2015</td>\n",
       "      <td>14.9</td>\n",
       "      <td>1.6</td>\n",
       "      <td>6</td>\n",
       "    </tr>\n",
       "    <tr>\n",
       "      <th>1</th>\n",
       "      <td>2015</td>\n",
       "      <td>15.4</td>\n",
       "      <td>0.1</td>\n",
       "      <td>7</td>\n",
       "    </tr>\n",
       "    <tr>\n",
       "      <th>2</th>\n",
       "      <td>2015</td>\n",
       "      <td>12.8</td>\n",
       "      <td>0.4</td>\n",
       "      <td>7</td>\n",
       "    </tr>\n",
       "    <tr>\n",
       "      <th>3</th>\n",
       "      <td>2015</td>\n",
       "      <td>18.7</td>\n",
       "      <td>0.3</td>\n",
       "      <td>15</td>\n",
       "    </tr>\n",
       "    <tr>\n",
       "      <th>4</th>\n",
       "      <td>2015</td>\n",
       "      <td>16.6</td>\n",
       "      <td>12.0</td>\n",
       "      <td>20</td>\n",
       "    </tr>\n",
       "  </tbody>\n",
       "</table>\n",
       "</div>"
      ],
      "text/plain": [
       "   Year  Max_Temp  Rain  Week\n",
       "0  2015      14.9   1.6     6\n",
       "1  2015      15.4   0.1     7\n",
       "2  2015      12.8   0.4     7\n",
       "3  2015      18.7   0.3    15\n",
       "4  2015      16.6  12.0    20"
      ]
     },
     "execution_count": 28,
     "metadata": {},
     "output_type": "execute_result"
    }
   ],
   "source": [
    "X.head()"
   ]
  },
  {
   "cell_type": "code",
   "execution_count": 29,
   "id": "a4e1d6d3",
   "metadata": {},
   "outputs": [
    {
     "data": {
      "text/html": [
       "<div>\n",
       "<style scoped>\n",
       "    .dataframe tbody tr th:only-of-type {\n",
       "        vertical-align: middle;\n",
       "    }\n",
       "\n",
       "    .dataframe tbody tr th {\n",
       "        vertical-align: top;\n",
       "    }\n",
       "\n",
       "    .dataframe thead th {\n",
       "        text-align: right;\n",
       "    }\n",
       "</style>\n",
       "<table border=\"1\" class=\"dataframe\">\n",
       "  <thead>\n",
       "    <tr style=\"text-align: right;\">\n",
       "      <th></th>\n",
       "      <th>Total_SWD</th>\n",
       "    </tr>\n",
       "  </thead>\n",
       "  <tbody>\n",
       "    <tr>\n",
       "      <th>0</th>\n",
       "      <td>0.0</td>\n",
       "    </tr>\n",
       "    <tr>\n",
       "      <th>1</th>\n",
       "      <td>125.0</td>\n",
       "    </tr>\n",
       "    <tr>\n",
       "      <th>2</th>\n",
       "      <td>5.0</td>\n",
       "    </tr>\n",
       "    <tr>\n",
       "      <th>3</th>\n",
       "      <td>2.0</td>\n",
       "    </tr>\n",
       "    <tr>\n",
       "      <th>4</th>\n",
       "      <td>1.0</td>\n",
       "    </tr>\n",
       "  </tbody>\n",
       "</table>\n",
       "</div>"
      ],
      "text/plain": [
       "   Total_SWD\n",
       "0        0.0\n",
       "1      125.0\n",
       "2        5.0\n",
       "3        2.0\n",
       "4        1.0"
      ]
     },
     "execution_count": 29,
     "metadata": {},
     "output_type": "execute_result"
    }
   ],
   "source": [
    "y.head()"
   ]
  },
  {
   "cell_type": "code",
   "execution_count": 30,
   "id": "ede16466",
   "metadata": {},
   "outputs": [],
   "source": [
    "from sklearn import linear_model"
   ]
  },
  {
   "cell_type": "code",
   "execution_count": 31,
   "id": "55f750f4",
   "metadata": {},
   "outputs": [],
   "source": [
    "import seaborn as sns"
   ]
  },
  {
   "cell_type": "code",
   "execution_count": 33,
   "id": "ea314fd1",
   "metadata": {},
   "outputs": [
    {
     "name": "stderr",
     "output_type": "stream",
     "text": [
      "/Users/onnikutty/opt/anaconda3/lib/python3.9/site-packages/seaborn/axisgrid.py:2076: UserWarning: The `size` parameter has been renamed to `height`; please update your code.\n",
      "  warnings.warn(msg, UserWarning)\n"
     ]
    },
    {
     "data": {
      "text/plain": [
       "<seaborn.axisgrid.PairGrid at 0x7fb38d1db940>"
      ]
     },
     "execution_count": 33,
     "metadata": {},
     "output_type": "execute_result"
    },
    {
     "data": {
      "image/png": "[encoded data removed]",
      "text/plain": [
       "<Figure size 302.4x216 with 2 Axes>"
      ]
     },
     "metadata": {
      "needs_background": "light"
     },
     "output_type": "display_data"
    }
   ],
   "source": [
    "sns.pairplot(df, x_vars=['Year','Week'], y_vars='Total_SWD',size=3,aspect=0.7)"
   ]
  },
  {
   "cell_type": "code",
   "execution_count": 34,
   "id": "f8ecd4ea",
   "metadata": {},
   "outputs": [],
   "source": [
    "reg = linear_model.LinearRegression()"
   ]
  },
  {
   "cell_type": "code",
   "execution_count": 22,
   "id": "adc8cc03",
   "metadata": {},
   "outputs": [
    {
     "name": "stdout",
     "output_type": "stream",
     "text": [
      "<class 'pandas.core.frame.DataFrame'>\n",
      "RangeIndex: 121 entries, 0 to 120\n",
      "Data columns (total 11 columns):\n",
      " #   Column        Non-Null Count  Dtype         \n",
      "---  ------        --------------  -----         \n",
      " 0   Date          121 non-null    datetime64[ns]\n",
      " 1   Min_Temp      121 non-null    float64       \n",
      " 2   Rain          121 non-null    float64       \n",
      " 3   Max_Temp      121 non-null    float64       \n",
      " 4   Total_SWD     121 non-null    float64       \n",
      " 5   Drosophilids  121 non-null    float64       \n",
      " 6   Male_SWD      121 non-null    int64         \n",
      " 7   Female_SWD    121 non-null    float64       \n",
      " 8   Similar       121 non-null    float64       \n",
      " 9   Week          121 non-null    int64         \n",
      " 10  Year          121 non-null    int64         \n",
      "dtypes: datetime64[ns](1), float64(7), int64(3)\n",
      "memory usage: 10.5 KB\n"
     ]
    }
   ],
   "source": [
    "df['Year'] = pd.to_datetime(df.Date, format='%d/%m/%Y')\n",
    "df.info()"
   ]
  },
  {
   "cell_type": "code",
   "execution_count": 35,
   "id": "b7722dc1",
   "metadata": {},
   "outputs": [
    {
     "data": {
      "text/plain": [
       "LinearRegression()"
      ]
     },
     "execution_count": 35,
     "metadata": {},
     "output_type": "execute_result"
    }
   ],
   "source": [
    "reg.fit(X,y)"
   ]
  },
  {
   "cell_type": "code",
   "execution_count": 36,
   "id": "3daae12d",
   "metadata": {},
   "outputs": [
    {
     "data": {
      "text/plain": [
       "array([-331373.11133544])"
      ]
     },
     "execution_count": 36,
     "metadata": {},
     "output_type": "execute_result"
    }
   ],
   "source": [
    "reg.intercept_"
   ]
  },
  {
   "cell_type": "code",
   "execution_count": 37,
   "id": "8f8c96f6",
   "metadata": {},
   "outputs": [
    {
     "data": {
      "text/plain": [
       "array([[164.40681494,  -9.03416084,   2.47974798,   4.03646535]])"
      ]
     },
     "execution_count": 37,
     "metadata": {},
     "output_type": "execute_result"
    }
   ],
   "source": [
    "reg.coef_"
   ]
  },
  {
   "cell_type": "code",
   "execution_count": 47,
   "id": "cd0cfeba",
   "metadata": {},
   "outputs": [
    {
     "data": {
      "text/plain": [
       "array([[1206.59340995]])"
      ]
     },
     "execution_count": 47,
     "metadata": {},
     "output_type": "execute_result"
    }
   ],
   "source": [
    "reg.predict([[2023,12,5,20]])"
   ]
  },
  {
   "cell_type": "code",
   "execution_count": 48,
   "id": "ff634d1f",
   "metadata": {},
   "outputs": [],
   "source": [
    "mylist = reg.predict([[2023,12,5,20]])"
   ]
  },
  {
   "cell_type": "code",
   "execution_count": 49,
   "id": "bcb9d98a",
   "metadata": {},
   "outputs": [
    {
     "data": {
      "text/plain": [
       "1206.5934099450824"
      ]
     },
     "execution_count": 49,
     "metadata": {},
     "output_type": "execute_result"
    }
   ],
   "source": [
    "mylist[0][0]"
   ]
  },
  {
   "cell_type": "code",
   "execution_count": 56,
   "id": "90390b3a",
   "metadata": {},
   "outputs": [],
   "source": [
    "y = 164.40681494*2016 - 9.03416084*9.8 + 2.47974798*0 + 4.03646535*7 - 331373.11133544"
   ]
  },
  {
   "cell_type": "code",
   "execution_count": 57,
   "id": "3d3b8063",
   "metadata": {},
   "outputs": [
    {
     "data": {
      "text/plain": [
       "10.748064817977138"
      ]
     },
     "execution_count": 57,
     "metadata": {},
     "output_type": "execute_result"
    }
   ],
   "source": [
    "y"
   ]
  },
  {
   "cell_type": "code",
   "execution_count": null,
   "id": "bcf5d215",
   "metadata": {},
   "outputs": [],
   "source": []
  }
 ],
 "metadata": {
  "kernelspec": {
   "display_name": "Python 3 (ipykernel)",
   "language": "python",
   "name": "python3"
  },
  "language_info": {
   "codemirror_mode": {
    "name": "ipython",
    "version": 3
   },
   "file_extension": ".py",
   "mimetype": "text/x-python",
   "name": "python",
   "nbconvert_exporter": "python",
   "pygments_lexer": "ipython3",
   "version": "3.9.7"
  }
 },
 "nbformat": 4,
 "nbformat_minor": 5
}
